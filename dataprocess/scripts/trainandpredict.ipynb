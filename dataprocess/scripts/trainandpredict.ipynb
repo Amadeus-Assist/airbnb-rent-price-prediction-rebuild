{
 "cells": [
  {
   "cell_type": "code",
   "execution_count": null,
   "metadata": {
    "collapsed": true
   },
   "outputs": [],
   "source": [
    "import mysql.connector\n",
    "import sqlalchemy\n",
    "\n",
    "from common.utils import Properties, Config\n",
    "from modelandpredict.traincovid import traincovid, predictcovid\n",
    "from modelandpredict.trainhousing import trainhousing, predicthousing"
   ]
  },
  {
   "cell_type": "code",
   "execution_count": null,
   "outputs": [],
   "source": [
    "credentials = Properties('../resources/credentials.properties').get_properties()\n",
    "user = credentials['user']\n",
    "pw = credentials['pw']\n",
    "address = credentials['address']\n",
    "db = credentials['db']\n",
    "db_conn = mysql.connector.connect(\n",
    "    host=address,\n",
    "    user=user,\n",
    "    password=pw,\n",
    "    database=db,\n",
    ")\n",
    "engine = sqlalchemy.create_engine(\"mysql+pymysql://{user}:{pw}@{address}/{db}\"\n",
    "                                  .format(user=user,\n",
    "                                          pw=pw,\n",
    "                                          address=address,\n",
    "                                          db=db))\n",
    "config = Config.get_instance()\n",
    "valid_cities = config['housing_valid_cities'].split('/')"
   ],
   "metadata": {
    "collapsed": false,
    "pycharm": {
     "name": "#%%\n"
    }
   }
  },
  {
   "cell_type": "code",
   "execution_count": null,
   "outputs": [],
   "source": [
    "for city in valid_cities:\n",
    "    traincovid(city, db_conn)\n",
    "\n",
    "print(\"Complete train covid\")"
   ],
   "metadata": {
    "collapsed": false,
    "pycharm": {
     "name": "#%%\n"
    }
   }
  },
  {
   "cell_type": "code",
   "execution_count": null,
   "outputs": [],
   "source": [
    "for city in valid_cities:\n",
    "    trainhousing(city, db_conn)\n",
    "\n",
    "print(\"Complete train housing\")"
   ],
   "metadata": {
    "collapsed": false,
    "pycharm": {
     "name": "#%%\n"
    }
   }
  },
  {
   "cell_type": "code",
   "execution_count": null,
   "outputs": [],
   "source": [
    "sql = \"DELETE FROM covid_prediction\"\n",
    "cursor = db_conn.cursor()\n",
    "cursor.execute(sql)\n",
    "db_conn.commit()\n",
    "for city in valid_cities:\n",
    "    predictcovid(city, db_conn, engine)\n",
    "\n",
    "print(\"Complete predict covid\")"
   ],
   "metadata": {
    "collapsed": false,
    "pycharm": {
     "name": "#%%\n"
    }
   }
  },
  {
   "cell_type": "code",
   "execution_count": null,
   "outputs": [],
   "source": [
    "sql = \"DELETE FROM housing_median_prediction\"\n",
    "cursor = db_conn.cursor()\n",
    "cursor.execute(sql)\n",
    "db_conn.commit()\n",
    "for city in valid_cities:\n",
    "    predicthousing(city, db_conn, engine)"
   ],
   "metadata": {
    "collapsed": false,
    "pycharm": {
     "name": "#%%\n"
    }
   }
  },
  {
   "cell_type": "code",
   "execution_count": null,
   "outputs": [],
   "source": [
    "db_conn.close()"
   ],
   "metadata": {
    "collapsed": false,
    "pycharm": {
     "name": "#%%\n"
    }
   }
  }
 ],
 "metadata": {
  "kernelspec": {
   "display_name": "Python 3",
   "language": "python",
   "name": "python3"
  },
  "language_info": {
   "codemirror_mode": {
    "name": "ipython",
    "version": 2
   },
   "file_extension": ".py",
   "mimetype": "text/x-python",
   "name": "python",
   "nbconvert_exporter": "python",
   "pygments_lexer": "ipython2",
   "version": "2.7.6"
  }
 },
 "nbformat": 4,
 "nbformat_minor": 0
}