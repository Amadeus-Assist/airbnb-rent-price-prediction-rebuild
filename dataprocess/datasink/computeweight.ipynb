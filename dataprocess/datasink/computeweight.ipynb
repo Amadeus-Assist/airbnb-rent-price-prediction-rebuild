{
 "cells": [
  {
   "cell_type": "code",
   "execution_count": 8,
   "metadata": {
    "collapsed": true
   },
   "outputs": [],
   "source": [
    "import pandas as pd\n",
    "from common.utils import Properties, Config"
   ]
  },
  {
   "cell_type": "code",
   "execution_count": 2,
   "outputs": [
    {
     "name": "stderr",
     "output_type": "stream",
     "text": [
      "F:\\Developer\\anaconda\\envs\\airbnb\\lib\\site-packages\\IPython\\core\\interactiveshell.py:3444: DtypeWarning: Columns (17) have mixed types.Specify dtype option on import or set low_memory=False.\n",
      "  exec(code_obj, self.user_global_ns, self.user_ns)\n"
     ]
    },
    {
     "data": {
      "text/plain": "     id                                               name  host_id  \\\n0  2595                              Skylit Midtown Castle     2845   \n1  3831  Whole flr w/private bdrm, bath & kitchen(pls r...     4869   \n2  5121                                    BlissArtsSpace!     7356   \n\n     host_name neighbourhood_group       neighbourhood  latitude  longitude  \\\n0     Jennifer           Manhattan             Midtown  40.75356  -73.98559   \n1  LisaRoxanne            Brooklyn  Bedford-Stuyvesant  40.68494  -73.95765   \n2        Garon            Brooklyn  Bedford-Stuyvesant  40.68535  -73.95512   \n\n         room_type  price  minimum_nights  number_of_reviews last_review  \\\n0  Entire home/apt    150              30                 48  2019-11-04   \n1  Entire home/apt     73               1                409  2021-10-22   \n2     Private room     60              30                 50  2019-12-02   \n\n   reviews_per_month  calculated_host_listings_count  availability_365  \\\n0               0.33                               3               334   \n1               4.62                               1               214   \n2               0.33                               2               365   \n\n   number_of_reviews_ltm license  \n0                      0     NaN  \n1                     26     NaN  \n2                      0     NaN  ",
      "text/html": "<div>\n<style scoped>\n    .dataframe tbody tr th:only-of-type {\n        vertical-align: middle;\n    }\n\n    .dataframe tbody tr th {\n        vertical-align: top;\n    }\n\n    .dataframe thead th {\n        text-align: right;\n    }\n</style>\n<table border=\"1\" class=\"dataframe\">\n  <thead>\n    <tr style=\"text-align: right;\">\n      <th></th>\n      <th>id</th>\n      <th>name</th>\n      <th>host_id</th>\n      <th>host_name</th>\n      <th>neighbourhood_group</th>\n      <th>neighbourhood</th>\n      <th>latitude</th>\n      <th>longitude</th>\n      <th>room_type</th>\n      <th>price</th>\n      <th>minimum_nights</th>\n      <th>number_of_reviews</th>\n      <th>last_review</th>\n      <th>reviews_per_month</th>\n      <th>calculated_host_listings_count</th>\n      <th>availability_365</th>\n      <th>number_of_reviews_ltm</th>\n      <th>license</th>\n    </tr>\n  </thead>\n  <tbody>\n    <tr>\n      <th>0</th>\n      <td>2595</td>\n      <td>Skylit Midtown Castle</td>\n      <td>2845</td>\n      <td>Jennifer</td>\n      <td>Manhattan</td>\n      <td>Midtown</td>\n      <td>40.75356</td>\n      <td>-73.98559</td>\n      <td>Entire home/apt</td>\n      <td>150</td>\n      <td>30</td>\n      <td>48</td>\n      <td>2019-11-04</td>\n      <td>0.33</td>\n      <td>3</td>\n      <td>334</td>\n      <td>0</td>\n      <td>NaN</td>\n    </tr>\n    <tr>\n      <th>1</th>\n      <td>3831</td>\n      <td>Whole flr w/private bdrm, bath &amp; kitchen(pls r...</td>\n      <td>4869</td>\n      <td>LisaRoxanne</td>\n      <td>Brooklyn</td>\n      <td>Bedford-Stuyvesant</td>\n      <td>40.68494</td>\n      <td>-73.95765</td>\n      <td>Entire home/apt</td>\n      <td>73</td>\n      <td>1</td>\n      <td>409</td>\n      <td>2021-10-22</td>\n      <td>4.62</td>\n      <td>1</td>\n      <td>214</td>\n      <td>26</td>\n      <td>NaN</td>\n    </tr>\n    <tr>\n      <th>2</th>\n      <td>5121</td>\n      <td>BlissArtsSpace!</td>\n      <td>7356</td>\n      <td>Garon</td>\n      <td>Brooklyn</td>\n      <td>Bedford-Stuyvesant</td>\n      <td>40.68535</td>\n      <td>-73.95512</td>\n      <td>Private room</td>\n      <td>60</td>\n      <td>30</td>\n      <td>50</td>\n      <td>2019-12-02</td>\n      <td>0.33</td>\n      <td>2</td>\n      <td>365</td>\n      <td>0</td>\n      <td>NaN</td>\n    </tr>\n  </tbody>\n</table>\n</div>"
     },
     "execution_count": 2,
     "metadata": {},
     "output_type": "execute_result"
    }
   ],
   "source": [
    "# raw_df = pd.read_csv('../housing_raw_data/new-york-city_listings.csv')\n",
    "# pd.set_option('display.max_columns', len(raw_df.columns))\n",
    "# pd.set_option('display.max_rows', 100)\n",
    "# raw_df.head(3)"
   ],
   "metadata": {
    "collapsed": false,
    "pycharm": {
     "name": "#%%\n"
    }
   }
  },
  {
   "cell_type": "code",
   "execution_count": 9,
   "outputs": [],
   "source": [
    "def count_one_city(city: str) -> dict:\n",
    "    raw_df = pd.read_csv('../housing_raw_data/{}_listings.csv'.format(city))\n",
    "    prices = {}\n",
    "    for index, row in raw_df.iterrows():\n",
    "        room_type = row['room_type']\n",
    "        price = row['price'] * 1.0\n",
    "        if room_type:\n",
    "            if room_type in prices:\n",
    "                count = prices[room_type][1]\n",
    "                prices[room_type][0] = (prices[room_type][0] * count + price) / (count + 1)\n",
    "                prices[room_type][1] += 1\n",
    "            else:\n",
    "                weights[room_type] = [price, 1]\n",
    "    print(weights)\n",
    "    return weights"
   ],
   "metadata": {
    "collapsed": false,
    "pycharm": {
     "name": "#%%\n"
    }
   }
  },
  {
   "cell_type": "code",
   "execution_count": 10,
   "outputs": [],
   "source": [
    "def union_weights(prices_major: dict, prices_add: dict):\n",
    "    for key, value in prices_add.items():\n",
    "        if key in prices_major:\n",
    "            count = prices_major[key][1]\n",
    "            count_add = value[1]\n",
    "            price_major = prices_major[key][0]\n",
    "            prices_major[key][0] = (price_major * count + value[0] * count_add) / (count + count_add)\n",
    "            prices_major[key][1]+=count_add\n",
    "        else:\n",
    "            prices_major[key] = [value[0], value[1]]"
   ],
   "metadata": {
    "collapsed": false,
    "pycharm": {
     "name": "#%%\n"
    }
   }
  },
  {
   "cell_type": "code",
   "execution_count": 12,
   "outputs": [
    {
     "name": "stderr",
     "output_type": "stream",
     "text": [
      "C:\\Users\\51370\\AppData\\Local\\Temp/ipykernel_17068/3724728268.py:5: DtypeWarning: Columns (17) have mixed types.Specify dtype option on import or set low_memory=False.\n",
      "  local_prices = count_one_city(city)\n"
     ]
    },
    {
     "name": "stdout",
     "output_type": "stream",
     "text": [
      "{'Entire home/apt': [210.9671181782492, 20376], 'Private room': [96.80268874016684, 17034], 'Hotel room': [237.0717703349283, 209], 'Shared room': [150.48409893992937, 566]}\n",
      "{'Entire home/apt': [323.75637601240567, 23212], 'Private room': [126.86790110685814, 9667], 'Hotel room': [498.8899082568808, 109], 'Shared room': [62.91108247422685, 776]}\n",
      "{'Private room': [78.40527283874933, 1631], 'Entire home/apt': [199.1400377913084, 4763], 'Shared room': [47.57303370786517, 89], 'Hotel room': [313.57377049180326, 61]}\n",
      "{'Entire home/apt': [330.5003787878791, 2640], 'Private room': [139.36191425722825, 1003], 'Shared room': [404.125, 8], 'Hotel room': [159.69230769230768, 13]}\n",
      "overall prices: {'Entire home/apt': [267.39471671471375, 50991], 'Private room': [107.14259417078576, 29335], 'Hotel room': [319.2117346938776, 392], 'Shared room': [98.3043780403058, 1439]}\n"
     ]
    }
   ],
   "source": [
    "config = Config.get_instance()\n",
    "valid_cities = config['housing_valid_cities'].split('/')\n",
    "prices = {}\n",
    "for city in valid_cities:\n",
    "    local_prices = count_one_city(city)\n",
    "    union_weights(prices, local_prices)\n",
    "print(\"overall prices: {}\".format(prices))"
   ],
   "metadata": {
    "collapsed": false,
    "pycharm": {
     "name": "#%%\n"
    }
   }
  },
  {
   "cell_type": "code",
   "execution_count": 18,
   "outputs": [
    {
     "name": "stdout",
     "output_type": "stream",
     "text": [
      "ratios: {'Entire home/apt': 1.0, 'Private room': 2.4956901481075344, 'Hotel room': 0.8376719514122621, 'Shared room': 2.720069258818556}\n"
     ]
    }
   ],
   "source": [
    "ratios = {}\n",
    "std_price = prices['Entire home/apt'][0]\n",
    "# for _, price in prices.items():\n",
    "#     total_price+=price[0]\n",
    "\n",
    "for room_type, price in prices.items():\n",
    "    ratios[room_type] = std_price/price[0]\n",
    "\n",
    "print(\"ratios: {}\".format(ratios))\n"
   ],
   "metadata": {
    "collapsed": false,
    "pycharm": {
     "name": "#%%\n"
    }
   }
  }
 ],
 "metadata": {
  "kernelspec": {
   "display_name": "Python 3",
   "language": "python",
   "name": "python3"
  },
  "language_info": {
   "codemirror_mode": {
    "name": "ipython",
    "version": 2
   },
   "file_extension": ".py",
   "mimetype": "text/x-python",
   "name": "python",
   "nbconvert_exporter": "python",
   "pygments_lexer": "ipython2",
   "version": "2.7.6"
  }
 },
 "nbformat": 4,
 "nbformat_minor": 0
}